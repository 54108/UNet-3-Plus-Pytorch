{
 "cells": [
  {
   "cell_type": "code",
   "execution_count": null,
   "metadata": {},
   "outputs": [],
   "source": [
    "import os\n",
    "\n",
    "def rename_files(images_dir, mask_dir):\n",
    "    # 获取文件列表并排序\n",
    "    images_files = sorted(os.listdir(images_dir), key=lambda x: int(os.path.splitext(x)[0]))\n",
    "    mask_files = sorted(os.listdir(mask_dir), key=lambda x: int(os.path.splitext(x)[0]))\n",
    "\n",
    "    # 确保两个文件夹中的文件数量一致\n",
    "    assert len(images_files) == len(mask_files), \"images 和 mask 文件夹中的文件数量不一致\"\n",
    "\n",
    "    # 遍历文件列表并重命名\n",
    "    for i, (img_file, mask_file) in enumerate(zip(images_files, mask_files)):\n",
    "        img_ext = os.path.splitext(img_file)[1]\n",
    "        mask_ext = os.path.splitext(mask_file)[1]\n",
    "\n",
    "        new_img_name = f\"image_{i+1}{img_ext}\"\n",
    "        new_mask_name = f\"mask_{i+1}{mask_ext}\"\n",
    "\n",
    "        os.rename(os.path.join(images_dir, img_file), os.path.join(images_dir, new_img_name))\n",
    "        os.rename(os.path.join(mask_dir, mask_file), os.path.join(mask_dir, new_mask_name))\n",
    "\n",
    "# 使用示例\n",
    "train_images_dir = 'data/train/images'\n",
    "train_mask_dir = 'data/train/mask'\n",
    "val_images_dir = 'data/val/images'\n",
    "val_mask_dir = 'data/val/mask'\n",
    "rename_files(train_images_dir, train_mask_dir)\n",
    "rename_files(val_images_dir, val_mask_dir)"
   ]
  }
 ],
 "metadata": {
  "kernelspec": {
   "display_name": "venv",
   "language": "python",
   "name": "python3"
  },
  "language_info": {
   "codemirror_mode": {
    "name": "ipython",
    "version": 3
   },
   "file_extension": ".py",
   "mimetype": "text/x-python",
   "name": "python",
   "nbconvert_exporter": "python",
   "pygments_lexer": "ipython3",
   "version": "3.11.2"
  }
 },
 "nbformat": 4,
 "nbformat_minor": 2
}
